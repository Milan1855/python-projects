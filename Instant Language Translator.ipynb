{
 "cells": [
  {
   "cell_type": "code",
   "execution_count": null,
   "id": "a66c7407-ee5f-4d17-a6b0-5efe59807625",
   "metadata": {},
   "outputs": [
    {
     "name": "stdin",
     "output_type": "stream",
     "text": [
      "Enter something here : hello\n"
     ]
    }
   ],
   "source": [
    "import requests\n",
    "\n",
    "url = \"https://google-translator9.p.rapidapi.com/v2\"\n",
    "ask=input(\"Enter something here :\")\n",
    "lng=input(\"In which language you want to convert \\n hi for hindi ar for arabian\")\n",
    "\n",
    "payload = {\n",
    "\t\"q\":ask, #\"The Great Pyramid of Giza (also known as the Pyramid of Khufu or the Pyramid of Cheops) is the oldest and largest of the three pyramids in the Giza pyramid complex.\"\n",
    "\t\"source\": \"en\",\n",
    "\t\"target\": lng,\n",
    "\t\"format\": \"text\"\n",
    "}\n",
    "headers = {\n",
    "\t\"x-rapidapi-key\": \"25dc6f42a3mshe5b5b76c3c439f8p17c67bjsn8ddbdcd445fc\",\n",
    "\t\"x-rapidapi-host\": \"google-translator9.p.rapidapi.com\",\n",
    "\t\"Content-Type\": \"application/json\"\n",
    "}\n",
    "\n",
    "response = requests.post(url, json=payload, headers=headers)\n",
    "result=response.json()\n",
    "# print(result)\n",
    "print(result['data']['translations'][0]['translatedText'])"
   ]
  },
  {
   "cell_type": "code",
   "execution_count": null,
   "id": "87d6f1b5-d2ba-4ffa-9bd1-91324fb2a4a2",
   "metadata": {},
   "outputs": [],
   "source": []
  }
 ],
 "metadata": {
  "kernelspec": {
   "display_name": "Python 3 (ipykernel)",
   "language": "python",
   "name": "python3"
  },
  "language_info": {
   "codemirror_mode": {
    "name": "ipython",
    "version": 3
   },
   "file_extension": ".py",
   "mimetype": "text/x-python",
   "name": "python",
   "nbconvert_exporter": "python",
   "pygments_lexer": "ipython3",
   "version": "3.12.4"
  }
 },
 "nbformat": 4,
 "nbformat_minor": 5
}
