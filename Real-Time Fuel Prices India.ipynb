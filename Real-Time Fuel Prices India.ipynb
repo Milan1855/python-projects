{
 "cells": [
  {
   "cell_type": "code",
   "execution_count": null,
   "id": "5441ec48-50a3-414e-88b3-a79b0ec8a7c0",
   "metadata": {},
   "outputs": [],
   "source": [
    "# fuel petrol price API:\n",
    "from prettytable import PrettyTable\n",
    "import requests\n",
    "a=input(\"Enter which state lpg,petrol,diesel rate you want to know:\")\n",
    "\n",
    "url = \"https://daily-petrol-diesel-lpg-cng-fuel-prices-in-india.p.rapidapi.com/v1/fuel-prices/today/india/\"+a\n",
    "\n",
    "headers = {\n",
    "\t\"x-rapidapi-key\": \"25dc6f42a3mshe5b5b76c3c439f8p17c67bjsn8ddbdcd445fc\",\n",
    "\t\"x-rapidapi-host\": \"daily-petrol-diesel-lpg-cng-fuel-prices-in-india.p.rapidapi.com\"\n",
    "}\n",
    "\n",
    "response = requests.get(url, headers=headers)\n",
    "\n",
    "result=response.json()\n",
    "obj=PrettyTable()\n",
    "heading=[\"Date\",\"State Name\",\"Petrol Price\",\"Diesel Price\",\"CNG Price\",\"LPG Price\"]\n",
    "obj.field_names=heading\n",
    "state_name=result['stateName']\n",
    "date=result['applicableOn']\n",
    "P_price=result['fuel']['petrol']['retailPrice']\n",
    "D_price=result['fuel']['diesel']['retailPrice']\n",
    "c_price=result['fuel']['cng']['retailPrice']\n",
    "l_price=result['fuel']['lpg']['retailPrice']\n",
    "obj.add_row([date,state_name,str(P_price)+\"ltr.\",str(D_price)+\"ltr.\",str(c_price)+\"KG\",str(l_price)+\"kg\"])\n",
    "print(obj)"
   ]
  }
 ],
 "metadata": {
  "kernelspec": {
   "display_name": "Python 3 (ipykernel)",
   "language": "python",
   "name": "python3"
  },
  "language_info": {
   "codemirror_mode": {
    "name": "ipython",
    "version": 3
   },
   "file_extension": ".py",
   "mimetype": "text/x-python",
   "name": "python",
   "nbconvert_exporter": "python",
   "pygments_lexer": "ipython3",
   "version": "3.12.4"
  }
 },
 "nbformat": 4,
 "nbformat_minor": 5
}
